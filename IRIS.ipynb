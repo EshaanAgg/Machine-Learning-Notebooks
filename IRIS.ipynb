{
 "cells": [
  {
   "attachments": {},
   "cell_type": "markdown",
   "metadata": {
    "_cell_guid": "387eb544-e77d-45fe-b1a0-5fdce0aee8c8",
    "_uuid": "c3c657b1d685ccee6eb120aca64c61590f297646"
   },
   "source": [
    "**Using Neural Network to predict Iris Species**\n",
    "\n",
    "This kernel uses multilayer perceptrons (Neural Network) to predict the species of the Iris dataset. Neural network is a machine learning algorithm which is inspired by a neuron.\n",
    "\n",
    "Technically, a multilayer perceptron is being used as the architecture to prevent overfitting to the Iris Species due to less features available in the dataset."
   ]
  },
  {
   "cell_type": "code",
   "execution_count": 1,
   "metadata": {
    "_cell_guid": "e97115b6-d0ee-44d7-b8cb-fbb28713e9c9",
    "_execution_state": "idle",
    "_uuid": "19970a38afe99ae032e4fe897a1cdadbc1445c5e"
   },
   "outputs": [
    {
     "name": "stderr",
     "output_type": "stream",
     "text": [
      "2023-05-02 11:00:53.116031: I tensorflow/core/util/port.cc:110] oneDNN custom operations are on. You may see slightly different numerical results due to floating-point round-off errors from different computation orders. To turn them off, set the environment variable `TF_ENABLE_ONEDNN_OPTS=0`.\n",
      "2023-05-02 11:00:53.160212: I tensorflow/tsl/cuda/cudart_stub.cc:28] Could not find cuda drivers on your machine, GPU will not be used.\n",
      "2023-05-02 11:00:53.358365: I tensorflow/tsl/cuda/cudart_stub.cc:28] Could not find cuda drivers on your machine, GPU will not be used.\n",
      "2023-05-02 11:00:53.359167: I tensorflow/core/platform/cpu_feature_guard.cc:182] This TensorFlow binary is optimized to use available CPU instructions in performance-critical operations.\n",
      "To enable the following instructions: AVX2 AVX512F AVX512_VNNI FMA, in other operations, rebuild TensorFlow with the appropriate compiler flags.\n",
      "2023-05-02 11:00:54.323007: W tensorflow/compiler/tf2tensorrt/utils/py_utils.cc:38] TF-TRT Warning: Could not find TensorRT\n"
     ]
    }
   ],
   "source": [
    "#Import required libraries \n",
    "\n",
    "import keras # Library for neural network creation and training\n",
    "import pandas as pd # Loading data in table form  \n",
    "import numpy as np # Linear algebra\n",
    "import pandas as pd # Data processing, CSV file I/O \n",
    "from sklearn.preprocessing import normalize # Machine learning algorithm library"
   ]
  },
  {
   "cell_type": "code",
   "execution_count": 2,
   "metadata": {
    "_cell_guid": "7baa3b65-788f-419b-8981-eaeb21e71e70",
    "_execution_state": "idle",
    "_uuid": "2514ae5b171fa72efc6e0ef4848d45abed4feec3"
   },
   "outputs": [
    {
     "name": "stdout",
     "output_type": "stream",
     "text": [
      "Describing the data:                 Id  SepalLengthCm  SepalWidthCm  PetalLengthCm  PetalWidthCm\n",
      "count  150.000000     150.000000    150.000000     150.000000    150.000000\n",
      "mean    75.500000       5.843333      3.054000       3.758667      1.198667\n",
      "std     43.445368       0.828066      0.433594       1.764420      0.763161\n",
      "min      1.000000       4.300000      2.000000       1.000000      0.100000\n",
      "25%     38.250000       5.100000      2.800000       1.600000      0.300000\n",
      "50%     75.500000       5.800000      3.000000       4.350000      1.300000\n",
      "75%    112.750000       6.400000      3.300000       5.100000      1.800000\n",
      "max    150.000000       7.900000      4.400000       6.900000      2.500000\n",
      "\n",
      "<class 'pandas.core.frame.DataFrame'>\n",
      "RangeIndex: 150 entries, 0 to 149\n",
      "Data columns (total 6 columns):\n",
      " #   Column         Non-Null Count  Dtype  \n",
      "---  ------         --------------  -----  \n",
      " 0   Id             150 non-null    int64  \n",
      " 1   SepalLengthCm  150 non-null    float64\n",
      " 2   SepalWidthCm   150 non-null    float64\n",
      " 3   PetalLengthCm  150 non-null    float64\n",
      " 4   PetalWidthCm   150 non-null    float64\n",
      " 5   Species        150 non-null    object \n",
      "dtypes: float64(4), int64(1), object(1)\n",
      "memory usage: 7.2+ KB\n",
      "Info of the data: None\n"
     ]
    }
   ],
   "source": [
    "#Reading data \n",
    "data=pd.read_csv(\"./Iris.csv\")\n",
    "print(\"Describing the data: \",data.describe())\n",
    "print()\n",
    "print(\"Info of the data:\",data.info())"
   ]
  },
  {
   "cell_type": "code",
   "execution_count": 3,
   "metadata": {
    "_cell_guid": "6ebc83c0-54f5-4747-aaed-d1733d3eb1f9",
    "_uuid": "8a7ca38afc989effe0ca6662526412a33348f1c5"
   },
   "outputs": [
    {
     "name": "stdout",
     "output_type": "stream",
     "text": [
      "10 first samples of the dataset:\n",
      "   Id  SepalLengthCm  SepalWidthCm  PetalLengthCm  PetalWidthCm      Species\n",
      "0   1            5.1           3.5            1.4           0.2  Iris-setosa\n",
      "1   2            4.9           3.0            1.4           0.2  Iris-setosa\n",
      "2   3            4.7           3.2            1.3           0.2  Iris-setosa\n",
      "3   4            4.6           3.1            1.5           0.2  Iris-setosa\n",
      "4   5            5.0           3.6            1.4           0.2  Iris-setosa\n",
      "5   6            5.4           3.9            1.7           0.4  Iris-setosa\n",
      "6   7            4.6           3.4            1.4           0.3  Iris-setosa\n",
      "7   8            5.0           3.4            1.5           0.2  Iris-setosa\n",
      "8   9            4.4           2.9            1.4           0.2  Iris-setosa\n",
      "9  10            4.9           3.1            1.5           0.1  Iris-setosa\n",
      "\n",
      "10 last samples of the dataset:\n",
      "      Id  SepalLengthCm  SepalWidthCm  PetalLengthCm  PetalWidthCm   \n",
      "140  141            6.7           3.1            5.6           2.4  \\\n",
      "141  142            6.9           3.1            5.1           2.3   \n",
      "142  143            5.8           2.7            5.1           1.9   \n",
      "143  144            6.8           3.2            5.9           2.3   \n",
      "144  145            6.7           3.3            5.7           2.5   \n",
      "145  146            6.7           3.0            5.2           2.3   \n",
      "146  147            6.3           2.5            5.0           1.9   \n",
      "147  148            6.5           3.0            5.2           2.0   \n",
      "148  149            6.2           3.4            5.4           2.3   \n",
      "149  150            5.9           3.0            5.1           1.8   \n",
      "\n",
      "            Species  \n",
      "140  Iris-virginica  \n",
      "141  Iris-virginica  \n",
      "142  Iris-virginica  \n",
      "143  Iris-virginica  \n",
      "144  Iris-virginica  \n",
      "145  Iris-virginica  \n",
      "146  Iris-virginica  \n",
      "147  Iris-virginica  \n",
      "148  Iris-virginica  \n",
      "149  Iris-virginica  \n"
     ]
    }
   ],
   "source": [
    "print(\"10 first samples of the dataset:\")\n",
    "print(data.head(10))\n",
    "print()\n",
    "print(\"10 last samples of the dataset:\")\n",
    "print(data.tail(10))"
   ]
  },
  {
   "attachments": {},
   "cell_type": "markdown",
   "metadata": {
    "_cell_guid": "9f1f98d3-016b-4d4d-bf4a-4815709a32ce",
    "_uuid": "40540e69f5dda9908c28d8adf5314e381d346099"
   },
   "source": [
    "The code below converts the species into respective categories to be fed into the neural network by assigning them an index like 0,1 and 2. "
   ]
  },
  {
   "cell_type": "code",
   "execution_count": 4,
   "metadata": {
    "_cell_guid": "365bb67b-6d95-4922-bddb-d4d3a43a0d0d",
    "_uuid": "ef7161477f4b6355166015e58db8d2704b093000"
   },
   "outputs": [
    {
     "name": "stdout",
     "output_type": "stream",
     "text": [
      "['Iris-setosa' 'Iris-versicolor' 'Iris-virginica']\n"
     ]
    }
   ],
   "source": [
    "print(data[\"Species\"].unique())"
   ]
  },
  {
   "cell_type": "code",
   "execution_count": 5,
   "metadata": {
    "_cell_guid": "77f8b61d-32b9-4fd9-9757-d9d44922d035",
    "_uuid": "2b63e0792aa5700a71fe9b7747fa4def17a0e4d3"
   },
   "outputs": [
    {
     "name": "stdout",
     "output_type": "stream",
     "text": [
      "   Id  SepalLengthCm  SepalWidthCm  PetalLengthCm  PetalWidthCm Species\n",
      "0   1            5.1           3.5            1.4           0.2       0\n",
      "1   2            4.9           3.0            1.4           0.2       0\n",
      "2   3            4.7           3.2            1.3           0.2       0\n",
      "3   4            4.6           3.1            1.5           0.2       0\n",
      "4   5            5.0           3.6            1.4           0.2       0\n"
     ]
    }
   ],
   "source": [
    "data.loc[data[\"Species\"]==\"Iris-setosa\",\"Species\"]=0\n",
    "data.loc[data[\"Species\"]==\"Iris-versicolor\",\"Species\"]=1\n",
    "data.loc[data[\"Species\"]==\"Iris-virginica\",\"Species\"]=2\n",
    "print(data.head())"
   ]
  },
  {
   "cell_type": "code",
   "execution_count": 6,
   "metadata": {
    "_cell_guid": "8c3f20d0-2e81-4960-80e2-279975a427e7",
    "_uuid": "1d6426dc4b82c1a0cdde44bdd39e36d5068b0a9d"
   },
   "outputs": [
    {
     "name": "stdout",
     "output_type": "stream",
     "text": [
      "      Id  SepalLengthCm  SepalWidthCm  PetalLengthCm  PetalWidthCm Species\n",
      "8      9            4.4           2.9            1.4           0.2       0\n",
      "90    91            5.5           2.6            4.4           1.2       1\n",
      "49    50            5.0           3.3            1.4           0.2       0\n",
      "86    87            6.7           3.1            4.7           1.5       1\n",
      "131  132            7.9           3.8            6.4           2.0       2\n"
     ]
    }
   ],
   "source": [
    "data=data.iloc[np.random.permutation(len(data))]\n",
    "print(data.head())"
   ]
  },
  {
   "attachments": {},
   "cell_type": "markdown",
   "metadata": {
    "_cell_guid": "96c0b24a-ef1d-44e7-872f-ce9065f4517f",
    "_uuid": "e9c7531857c15f4bcae71d1792e6ea2bddaf89c2"
   },
   "source": [
    "Now we convert the data to a numpy array so that the same can be processed by the machine learning libraries."
   ]
  },
  {
   "cell_type": "code",
   "execution_count": 7,
   "metadata": {
    "_cell_guid": "b622856d-5fb1-458b-b395-bde6fbcc456a",
    "_uuid": "2bd511b4c77f6bcb831b620f237256ecbe966a29"
   },
   "outputs": [
    {
     "name": "stdout",
     "output_type": "stream",
     "text": [
      "Shape of X (150, 4)\n",
      "Shape of y (150,)\n",
      "Examples of X\n",
      " [[4.4 2.9 1.4 0.2]\n",
      " [5.5 2.6 4.4 1.2]\n",
      " [5.  3.3 1.4 0.2]]\n",
      "Examples of y\n",
      " [0 1 0]\n"
     ]
    }
   ],
   "source": [
    "X=data.iloc[:,1:5].values\n",
    "y=data.iloc[:,5].values\n",
    "\n",
    "print(\"Shape of X\",X.shape)\n",
    "print(\"Shape of y\",y.shape)\n",
    "print(\"Examples of X\\n\",X[:3])\n",
    "print(\"Examples of y\\n\",y[:3])"
   ]
  },
  {
   "attachments": {},
   "cell_type": "markdown",
   "metadata": {
    "_cell_guid": "962d57b5-aa84-4170-a1a9-adb5e9eceb2a",
    "_uuid": "e6c5feb4fb4fefedcd03fd691ec6fe6370ef7dfb"
   },
   "source": [
    "**Normalization**\n",
    "\n",
    "It can be seen from above that the feature of the first dataset has the following average characterisitics:\n",
    "- 6cm in Sepal Length\n",
    "- 3.4cm in Sepal Width\n",
    "- 4.5cm in Petal Length\n",
    "- 1.6cm in Petal Width\n",
    "\n",
    "  \n",
    "However, the range of the dataset may be different for different features. Therefore, in order to maintain a good accuracy, the feature of each dataset must be normalized to a range of 0-1 for processing and evaluation. "
   ]
  },
  {
   "cell_type": "code",
   "execution_count": 8,
   "metadata": {
    "_cell_guid": "366e4a6e-82f1-4723-8e9f-d4c47e9a9cee",
    "_uuid": "c11d1eed202d7b2d79c256364de928777d982178"
   },
   "outputs": [
    {
     "name": "stdout",
     "output_type": "stream",
     "text": [
      "Examples of X_normalised\n",
      " [[0.06087757 0.07676768 0.02754646 0.01150299]\n",
      " [0.07609697 0.06882619 0.0865746  0.06901797]\n",
      " [0.06917906 0.08735632 0.02754646 0.01150299]]\n"
     ]
    }
   ],
   "source": [
    "X_normalized=normalize(X,axis=0)\n",
    "print(\"Examples of X_normalised\\n\",X_normalized[:3])"
   ]
  },
  {
   "cell_type": "code",
   "execution_count": 9,
   "metadata": {
    "_cell_guid": "9dced524-d0c2-486e-8654-dfaee41ce3f5",
    "_uuid": "0eb1b785254354dddab0642cac16ebff9bb824bd"
   },
   "outputs": [
    {
     "name": "stdout",
     "output_type": "stream",
     "text": [
      "Length of train set x: 120 y: 120\n",
      "Length of test set x: 30 y: 30\n"
     ]
    }
   ],
   "source": [
    "# Creating training, testing and validation data\n",
    "'''\n",
    "80% -- train data\n",
    "20% -- test data\n",
    "'''\n",
    "total_length=len(data)\n",
    "train_length=int(0.8*total_length)\n",
    "test_length=int(0.2*total_length)\n",
    "\n",
    "X_train=X_normalized[:train_length]\n",
    "X_test=X_normalized[train_length:]\n",
    "y_train=y[:train_length]\n",
    "y_test=y[train_length:]\n",
    "\n",
    "print(\"Length of train set x:\",X_train.shape[0],\"y:\",y_train.shape[0])\n",
    "print(\"Length of test set x:\",X_test.shape[0],\"y:\",y_test.shape[0])"
   ]
  },
  {
   "cell_type": "code",
   "execution_count": 10,
   "metadata": {
    "_cell_guid": "955494c5-3547-4f16-8cd4-c45fc4736c66",
    "_uuid": "e847b196b3d79e1aa11b1e6338a3300c6320cd5e",
    "collapsed": true
   },
   "outputs": [],
   "source": [
    "#Neural network module\n",
    "from keras.models import Sequential \n",
    "from keras.layers import Dense,Activation,Dropout \n",
    "from tensorflow.keras.layers import BatchNormalization\n",
    "from keras.utils import np_utils\n",
    "from matplotlib import pyplot as plt"
   ]
  },
  {
   "cell_type": "code",
   "execution_count": 11,
   "metadata": {
    "_cell_guid": "82eae2e6-7369-4953-be41-725496a0c503",
    "_uuid": "4e43122514268433d653bf77e7b4ccbb8cd6e765"
   },
   "outputs": [
    {
     "name": "stdout",
     "output_type": "stream",
     "text": [
      "Shape of y_train (120, 3)\n",
      "Shape of y_test (30, 3)\n"
     ]
    }
   ],
   "source": [
    "# Change the label to one vector\n",
    "'''\n",
    "[0]--->[1 0 0]\n",
    "[1]--->[0 1 0]\n",
    "[2]--->[0 0 1]\n",
    "'''\n",
    "\n",
    "y_train = np_utils.to_categorical(y_train,num_classes=3)\n",
    "y_test = np_utils.to_categorical(y_test,num_classes=3)\n",
    "print(\"Shape of y_train\", y_train.shape)\n",
    "print(\"Shape of y_test\", y_test.shape)"
   ]
  },
  {
   "cell_type": "code",
   "execution_count": 12,
   "metadata": {
    "_cell_guid": "b39b3da2-db3e-4fac-a9a2-625142f4c2dc",
    "_uuid": "5e05d8f7e756fb0fe25820ba0fe7c6b15fdc8d1e",
    "collapsed": true
   },
   "outputs": [],
   "source": [
    "model=Sequential()\n",
    "\n",
    "# We train the neural network with 5 hidden layers\n",
    "model.add(Dense(1000,input_dim=4,activation='relu'))\n",
    "model.add(Dense(500,activation='relu'))\n",
    "model.add(Dense(300,activation='relu'))\n",
    "model.add(Dropout(0.2))\n",
    "model.add(Dense(3,activation='softmax'))\n",
    "\n",
    "# Make the model\n",
    "model.compile(loss='categorical_crossentropy',optimizer='adam',metrics=['accuracy'])"
   ]
  },
  {
   "cell_type": "code",
   "execution_count": 13,
   "metadata": {
    "_cell_guid": "3e90b8a7-842d-457e-8615-c732425c8e70",
    "_uuid": "a308c53350dbaab53abe34c77aa7bceac39358eb"
   },
   "outputs": [
    {
     "name": "stdout",
     "output_type": "stream",
     "text": [
      "Model: \"sequential\"\n",
      "_________________________________________________________________\n",
      " Layer (type)                Output Shape              Param #   \n",
      "=================================================================\n",
      " dense (Dense)               (None, 1000)              5000      \n",
      "                                                                 \n",
      " dense_1 (Dense)             (None, 500)               500500    \n",
      "                                                                 \n",
      " dense_2 (Dense)             (None, 300)               150300    \n",
      "                                                                 \n",
      " dropout (Dropout)           (None, 300)               0         \n",
      "                                                                 \n",
      " dense_3 (Dense)             (None, 3)                 903       \n",
      "                                                                 \n",
      "=================================================================\n",
      "Total params: 656,703\n",
      "Trainable params: 656,703\n",
      "Non-trainable params: 0\n",
      "_________________________________________________________________\n"
     ]
    }
   ],
   "source": [
    "model.summary()"
   ]
  },
  {
   "cell_type": "code",
   "execution_count": 14,
   "metadata": {
    "_cell_guid": "9f9d7219-7a2d-405c-8e6c-c3097e5e7e06",
    "_uuid": "0b5ea6209168703be0e88e9a4b4a119eb21e896d"
   },
   "outputs": [
    {
     "name": "stdout",
     "output_type": "stream",
     "text": [
      "Epoch 1/10\n",
      "6/6 [==============================] - 1s 30ms/step - loss: 1.0860 - accuracy: 0.6083 - val_loss: 1.0567 - val_accuracy: 0.6000\n",
      "Epoch 2/10\n",
      "6/6 [==============================] - 0s 7ms/step - loss: 1.0176 - accuracy: 0.6833 - val_loss: 0.9706 - val_accuracy: 0.6000\n",
      "Epoch 3/10\n",
      "6/6 [==============================] - 0s 7ms/step - loss: 0.8841 - accuracy: 0.6833 - val_loss: 0.8093 - val_accuracy: 0.6000\n",
      "Epoch 4/10\n",
      "6/6 [==============================] - 0s 7ms/step - loss: 0.6969 - accuracy: 0.6917 - val_loss: 0.6177 - val_accuracy: 0.6000\n",
      "Epoch 5/10\n",
      "6/6 [==============================] - 0s 7ms/step - loss: 0.4967 - accuracy: 0.8167 - val_loss: 0.4534 - val_accuracy: 0.7667\n",
      "Epoch 6/10\n",
      "6/6 [==============================] - 0s 7ms/step - loss: 0.3556 - accuracy: 0.9000 - val_loss: 0.3403 - val_accuracy: 0.9667\n",
      "Epoch 7/10\n",
      "6/6 [==============================] - 0s 7ms/step - loss: 0.2855 - accuracy: 0.9000 - val_loss: 0.3477 - val_accuracy: 0.8333\n",
      "Epoch 8/10\n",
      "6/6 [==============================] - 0s 7ms/step - loss: 0.2586 - accuracy: 0.8833 - val_loss: 0.1993 - val_accuracy: 0.9667\n",
      "Epoch 9/10\n",
      "6/6 [==============================] - 0s 7ms/step - loss: 0.1799 - accuracy: 0.9667 - val_loss: 0.1354 - val_accuracy: 0.9667\n",
      "Epoch 10/10\n",
      "6/6 [==============================] - 0s 8ms/step - loss: 0.1563 - accuracy: 0.9500 - val_loss: 0.1142 - val_accuracy: 0.9333\n"
     ]
    }
   ],
   "source": [
    "# Train the model to 10 epochs\n",
    "history = model.fit(X_train,y_train,validation_data=(X_test,y_test),batch_size=20,epochs=10,verbose=1)"
   ]
  },
  {
   "cell_type": "code",
   "execution_count": 15,
   "metadata": {},
   "outputs": [
    {
     "data": {
      "image/png": "[encoded data removed]",
      "text/plain": [
       "<Figure size 640x480 with 1 Axes>"
      ]
     },
     "metadata": {},
     "output_type": "display_data"
    }
   ],
   "source": [
    "# Model Accuracy\n",
    "plt.plot(history.history['accuracy'])\n",
    "plt.plot(history.history['val_accuracy'])\n",
    "plt.title('model accuracy')\n",
    "plt.ylabel('accuracy')\n",
    "plt.xlabel('epoch')\n",
    "plt.legend(['train', 'val'], loc='upper left')\n",
    "plt.show()"
   ]
  },
  {
   "cell_type": "code",
   "execution_count": 16,
   "metadata": {},
   "outputs": [
    {
     "data": {
      "image/png": "[encoded data removed]",
      "text/plain": [
       "<Figure size 640x480 with 1 Axes>"
      ]
     },
     "metadata": {},
     "output_type": "display_data"
    }
   ],
   "source": [
    "# Model Loss\n",
    "plt.plot(history.history['loss'])\n",
    "plt.plot(history.history['val_loss'])\n",
    "plt.title('model loss')\n",
    "plt.ylabel('loss')\n",
    "plt.xlabel('epoch')\n",
    "plt.legend(['train', 'val'], loc='upper left')\n",
    "plt.show()"
   ]
  },
  {
   "cell_type": "code",
   "execution_count": 17,
   "metadata": {
    "_cell_guid": "4af03573-a9a6-4cc8-afab-d098659a38b0",
    "_uuid": "7f296969c0072a6be7417c5d020de83e24bd0084"
   },
   "outputs": [
    {
     "name": "stdout",
     "output_type": "stream",
     "text": [
      "1/1 [==============================] - 0s 53ms/step\n",
      "Accuracy of the dataset 93.33333333333333\n"
     ]
    }
   ],
   "source": [
    "# Run the model on the testing data to determine the validity of the model \n",
    "\n",
    "prediction=model.predict(X_test)\n",
    "length=len(prediction)\n",
    "y_label=np.argmax(y_test,axis=1)\n",
    "predict_label=np.argmax(prediction,axis=1)\n",
    "\n",
    "accuracy=np.sum(y_label==predict_label)/length * 100 \n",
    "print(\"Accuracy of the dataset\",accuracy )"
   ]
  },
  {
   "attachments": {},
   "cell_type": "markdown",
   "metadata": {
    "_cell_guid": "d1267f5c-44ef-4140-b014-b94e34e8f9b5",
    "_uuid": "878d893cf9d4ee8ff9272e93757fdfb8f277790d"
   },
   "source": [
    "An accuracy of **100%** is achieved in this dataset. It can be asserted that for each epoch, the neural network is trying to learn from its existing feature and predict it by its weights and biases. For each epoch, the weights and biases and changed by subtracting its rate to get a better accuracy each time.\n",
    "\n",
    "\n",
    "**Further improvements:**\n",
    "\n",
    "1. Adding batch normalization \n",
    "2. Adding dropout layer to prevent overfitting "
   ]
  }
 ],
 "metadata": {
  "kernelspec": {
   "display_name": "Python 3",
   "language": "python",
   "name": "python3"
  },
  "language_info": {
   "codemirror_mode": {
    "name": "ipython",
    "version": 3
   },
   "file_extension": ".py",
   "mimetype": "text/x-python",
   "name": "python",
   "nbconvert_exporter": "python",
   "pygments_lexer": "ipython3",
   "version": "3.9.10"
  }
 },
 "nbformat": 4,
 "nbformat_minor": 1
}
